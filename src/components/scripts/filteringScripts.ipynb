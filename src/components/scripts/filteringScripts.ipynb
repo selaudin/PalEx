{
 "cells": [
  {
   "cell_type": "code",
   "execution_count": 13,
   "metadata": {
    "collapsed": true,
    "ExecuteTime": {
     "end_time": "2024-02-05T01:05:06.974813Z",
     "start_time": "2024-02-05T01:05:03.733859Z"
    }
   },
   "outputs": [
    {
     "name": "stdout",
     "output_type": "stream",
     "text": [
      "Count of 'ETM' objects:  154\n",
      "Size of the new texts array:  154\n",
      "New file saved\n",
      "154\n"
     ]
    }
   ],
   "source": [
    "import json\n",
    "\n",
    "count = 0\n",
    "data = json.load(open('./coco-homer32-local.json', 'r'))\n",
    "newTextsArray = []\n",
    "\n",
    "for textObject in data['texts']: # access each child object of the texts array\n",
    "    txt_title = textObject['txt_title'] # get the txt_title attribute of the object\n",
    "    if txt_title != None: # check if the txt_title attribute is not null so we can select the 3 first letters\n",
    "        if len(txt_title) >= 3: # check if the title is at least 3 letters\n",
    "            prefix = txt_title[:3] # slice the first 3 letters\n",
    "            if prefix == \"ETM\":\n",
    "                newTextsArray.append(textObject)\n",
    "                count+=1\n",
    "\n",
    "print(\"Count of 'ETM' objects: \", count)\n",
    "print(\"Size of the new texts array: \", len(newTextsArray))\n",
    "\n",
    "# Save the new filtered array to another filename\n",
    "data['texts'] = newTextsArray\n",
    "with open('./filtered_coco-homer32.json', 'w') as new_file:\n",
    "    json.dump(data, new_file, indent=4)\n",
    "\n",
    "print(\"New file saved\")\n",
    "print(len(data['texts']))"
   ]
  },
  {
   "cell_type": "code",
   "execution_count": null,
   "outputs": [],
   "source": [],
   "metadata": {
    "collapsed": false
   }
  }
 ],
 "metadata": {
  "kernelspec": {
   "display_name": "Python 3",
   "language": "python",
   "name": "python3"
  },
  "language_info": {
   "codemirror_mode": {
    "name": "ipython",
    "version": 2
   },
   "file_extension": ".py",
   "mimetype": "text/x-python",
   "name": "python",
   "nbconvert_exporter": "python",
   "pygments_lexer": "ipython2",
   "version": "2.7.6"
  }
 },
 "nbformat": 4,
 "nbformat_minor": 0
}
